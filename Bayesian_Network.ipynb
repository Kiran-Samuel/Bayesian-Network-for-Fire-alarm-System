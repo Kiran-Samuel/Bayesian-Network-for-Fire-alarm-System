{
 "cells": [
  {
   "cell_type": "markdown",
   "metadata": {},
   "source": [
    "# Bayesian Network for Fire Alarm"
   ]
  },
  {
   "cell_type": "markdown",
   "metadata": {},
   "source": [
    "## Part II"
   ]
  },
  {
   "cell_type": "markdown",
   "metadata": {},
   "source": [
    "### Implementation of the Bayesian Network"
   ]
  },
  {
   "cell_type": "markdown",
   "metadata": {},
   "source": [
    "### Importing necessary libraries"
   ]
  },
  {
   "cell_type": "code",
   "execution_count": 1,
   "metadata": {},
   "outputs": [],
   "source": [
    "from pgmpy.factors.discrete import TabularCPD\n",
    "from pgmpy.models import BayesianNetwork\n",
    "import networkx as nx"
   ]
  },
  {
   "cell_type": "markdown",
   "metadata": {},
   "source": [
    "### Defining network structure"
   ]
  },
  {
   "cell_type": "code",
   "execution_count": 2,
   "metadata": {},
   "outputs": [],
   "source": [
    "fire_model = BayesianNetwork([('Faulty', 'Alarm'),\n",
    "                              ('Fire', 'Alarm'),\n",
    "                              ('Fire', 'Smoke'),\n",
    "                              ('Alarm', 'Evacuation'),\n",
    "                              ('Alarm', 'Alert')])"
   ]
  },
  {
   "cell_type": "markdown",
   "metadata": {},
   "source": [
    "### Depiction of the Bayesian Network"
   ]
  },
  {
   "cell_type": "code",
   "execution_count": 3,
   "metadata": {},
   "outputs": [
    {
     "data": {
      "image/png": "[encoded data removed]",
      "text/plain": [
       "<Figure size 432x288 with 1 Axes>"
      ]
     },
     "metadata": {},
     "output_type": "display_data"
    }
   ],
   "source": [
    "nx.draw(fire_model, with_labels=True)"
   ]
  },
  {
   "cell_type": "markdown",
   "metadata": {},
   "source": [
    "### Define conditional probability distributions (CPD)"
   ]
  },
  {
   "cell_type": "code",
   "execution_count": 4,
   "metadata": {},
   "outputs": [],
   "source": [
    "# Probability of a faulty alarm (True, False)\n",
    "faulty_cpd = TabularCPD(\n",
    "    variable = 'Faulty',\n",
    "    variable_card = 2,   # cardinality\n",
    "    values = [[0.02], [0.98]],\n",
    "    state_names={'Faulty': ['Yes', 'No']})"
   ]
  },
  {
   "cell_type": "code",
   "execution_count": 5,
   "metadata": {},
   "outputs": [],
   "source": [
    "# Probability of fire (True, False)\n",
    "fire_cpd = TabularCPD(\n",
    "    variable = 'Fire',\n",
    "    variable_card = 2,\n",
    "    values = [[.01], [.99]],\n",
    "    state_names={'Fire': ['Yes', 'No']}) "
   ]
  },
  {
   "cell_type": "code",
   "execution_count": 6,
   "metadata": {},
   "outputs": [],
   "source": [
    "# Probability of fire alarm going off given a tampering and/or fire\n",
    "alarm_cpd = TabularCPD(\n",
    "    variable = 'Alarm',\n",
    "    variable_card = 2,\n",
    "    values = [[.5, .9, .99, .0001],\n",
    "              [.5, .1, .01, .9999]],\n",
    "    evidence = ['Faulty', 'Fire'],\n",
    "    evidence_card = [2,2],\n",
    "    state_names={'Alarm': ['Yes', 'No'],\n",
    "                 'Faulty': ['Yes', 'No'],\n",
    "                 'Fire': ['Yes', 'No']})"
   ]
  },
  {
   "cell_type": "code",
   "execution_count": 7,
   "metadata": {},
   "outputs": [],
   "source": [
    "# Probability of smoke given fire or no fire\n",
    "smoke_cpd = TabularCPD(\n",
    "    variable='Smoke',\n",
    "    variable_card=2,\n",
    "    values=[[0.9, 0.01], \n",
    "            [0.1, 0.99]],\n",
    "    evidence=['Fire'], \n",
    "    evidence_card=[2],\n",
    "    state_names={'Smoke': ['Yes', 'No'],\n",
    "                'Fire': ['Yes', 'No']})"
   ]
  },
  {
   "cell_type": "code",
   "execution_count": 8,
   "metadata": {},
   "outputs": [],
   "source": [
    "# Proabability of alerting the first responders in case of fire or no fire\n",
    "alert_cpd = TabularCPD(\n",
    "    variable='Alert', \n",
    "    variable_card=2,\n",
    "    values=[[0.8, 0.01], \n",
    "            [0.2, 0.99]],\n",
    "    evidence=['Alarm'], \n",
    "    evidence_card=[2],\n",
    "    state_names={'Alert': ['Yes', 'No'],\n",
    "                'Alarm': ['Yes', 'No']})"
   ]
  },
  {
   "cell_type": "code",
   "execution_count": 9,
   "metadata": {},
   "outputs": [],
   "source": [
    "# Probability of evacuating given fire alarm going off or not\n",
    "evacuation_cpd = TabularCPD(\n",
    "    variable='Evacuation', \n",
    "    variable_card=2,\n",
    "    values=[[0.88, 0.001], \n",
    "            [0.12, 0.999]],\n",
    "    evidence=['Alarm'], \n",
    "    evidence_card=[2],\n",
    "    state_names={'Evacuation': ['Yes', 'No'],\n",
    "                'Alarm': ['Yes', 'No']})"
   ]
  },
  {
   "cell_type": "markdown",
   "metadata": {},
   "source": [
    "### Add the CPDs to the network"
   ]
  },
  {
   "cell_type": "code",
   "execution_count": 10,
   "metadata": {},
   "outputs": [],
   "source": [
    "fire_model.add_cpds(faulty_cpd, fire_cpd, smoke_cpd, alert_cpd, alarm_cpd, evacuation_cpd)"
   ]
  },
  {
   "cell_type": "markdown",
   "metadata": {},
   "source": [
    "### Checking if the model is valid and the probabilities add up to 1"
   ]
  },
  {
   "cell_type": "code",
   "execution_count": 11,
   "metadata": {},
   "outputs": [
    {
     "data": {
      "text/plain": [
       "True"
      ]
     },
     "execution_count": 11,
     "metadata": {},
     "output_type": "execute_result"
    }
   ],
   "source": [
    "# Check if the model is valid and throw an exception otherwise\n",
    "fire_model.check_model()"
   ]
  },
  {
   "cell_type": "code",
   "execution_count": 12,
   "metadata": {},
   "outputs": [
    {
     "data": {
      "text/plain": [
       "[<TabularCPD representing P(Faulty:2) at 0x2a3efc7e288>,\n",
       " <TabularCPD representing P(Fire:2) at 0x2a3efe23688>,\n",
       " <TabularCPD representing P(Smoke:2 | Fire:2) at 0x2a3efe267c8>,\n",
       " <TabularCPD representing P(Alert:2 | Alarm:2) at 0x2a3efe26e08>,\n",
       " <TabularCPD representing P(Alarm:2 | Faulty:2, Fire:2) at 0x2a3efe26188>,\n",
       " <TabularCPD representing P(Evacuation:2 | Alarm:2) at 0x2a3efe33488>]"
      ]
     },
     "execution_count": 12,
     "metadata": {},
     "output_type": "execute_result"
    }
   ],
   "source": [
    "fire_model.get_cpds()"
   ]
  },
  {
   "cell_type": "markdown",
   "metadata": {},
   "source": [
    "### Print probability distributions for each node"
   ]
  },
  {
   "cell_type": "code",
   "execution_count": 13,
   "metadata": {},
   "outputs": [
    {
     "name": "stdout",
     "output_type": "stream",
     "text": [
      "CPD of Faulty:\n",
      "+-------------+------+\n",
      "| Faulty(Yes) | 0.02 |\n",
      "+-------------+------+\n",
      "| Faulty(No)  | 0.98 |\n",
      "+-------------+------+\n",
      "CPD of Fire:\n",
      "+-----------+------+\n",
      "| Fire(Yes) | 0.01 |\n",
      "+-----------+------+\n",
      "| Fire(No)  | 0.99 |\n",
      "+-----------+------+\n",
      "CPD of Smoke:\n",
      "+------------+-----------+----------+\n",
      "| Fire       | Fire(Yes) | Fire(No) |\n",
      "+------------+-----------+----------+\n",
      "| Smoke(Yes) | 0.9       | 0.01     |\n",
      "+------------+-----------+----------+\n",
      "| Smoke(No)  | 0.1       | 0.99     |\n",
      "+------------+-----------+----------+\n",
      "CPD of Alert:\n",
      "+------------+------------+-----------+\n",
      "| Alarm      | Alarm(Yes) | Alarm(No) |\n",
      "+------------+------------+-----------+\n",
      "| Alert(Yes) | 0.8        | 0.01      |\n",
      "+------------+------------+-----------+\n",
      "| Alert(No)  | 0.2        | 0.99      |\n",
      "+------------+------------+-----------+\n",
      "CPD of Alarm:\n",
      "+------------+-------------+-------------+------------+------------+\n",
      "| Faulty     | Faulty(Yes) | Faulty(Yes) | Faulty(No) | Faulty(No) |\n",
      "+------------+-------------+-------------+------------+------------+\n",
      "| Fire       | Fire(Yes)   | Fire(No)    | Fire(Yes)  | Fire(No)   |\n",
      "+------------+-------------+-------------+------------+------------+\n",
      "| Alarm(Yes) | 0.5         | 0.9         | 0.99       | 0.0001     |\n",
      "+------------+-------------+-------------+------------+------------+\n",
      "| Alarm(No)  | 0.5         | 0.1         | 0.01       | 0.9999     |\n",
      "+------------+-------------+-------------+------------+------------+\n",
      "CPD of Evacuation:\n",
      "+-----------------+------------+-----------+\n",
      "| Alarm           | Alarm(Yes) | Alarm(No) |\n",
      "+-----------------+------------+-----------+\n",
      "| Evacuation(Yes) | 0.88       | 0.001     |\n",
      "+-----------------+------------+-----------+\n",
      "| Evacuation(No)  | 0.12       | 0.999     |\n",
      "+-----------------+------------+-----------+\n"
     ]
    }
   ],
   "source": [
    "for cpd in fire_model.get_cpds():\n",
    "    print(\"CPD of {variable}:\".format(variable = cpd.variable))\n",
    "    print(cpd)"
   ]
  },
  {
   "cell_type": "markdown",
   "metadata": {},
   "source": [
    "### Active trail nodes"
   ]
  },
  {
   "cell_type": "markdown",
   "metadata": {},
   "source": [
    "To find the path of influence of a particular node"
   ]
  },
  {
   "cell_type": "code",
   "execution_count": 14,
   "metadata": {},
   "outputs": [
    {
     "data": {
      "text/plain": [
       "{'Fire': {'Alarm', 'Alert', 'Evacuation', 'Fire', 'Smoke'}}"
      ]
     },
     "execution_count": 14,
     "metadata": {},
     "output_type": "execute_result"
    }
   ],
   "source": [
    "fire_model.active_trail_nodes('Fire')"
   ]
  },
  {
   "cell_type": "markdown",
   "metadata": {},
   "source": [
    "\"Faulty\" is not part of this path as a faulty detector is not dependent on fire occuring."
   ]
  },
  {
   "cell_type": "code",
   "execution_count": 15,
   "metadata": {},
   "outputs": [
    {
     "data": {
      "text/plain": [
       "{'Alert': {'Alarm', 'Alert', 'Evacuation', 'Faulty', 'Fire', 'Smoke'}}"
      ]
     },
     "execution_count": 15,
     "metadata": {},
     "output_type": "execute_result"
    }
   ],
   "source": [
    "fire_model.active_trail_nodes('Alert')"
   ]
  },
  {
   "cell_type": "markdown",
   "metadata": {},
   "source": [
    "An alert is influenced by all the nodes in the network"
   ]
  },
  {
   "cell_type": "markdown",
   "metadata": {},
   "source": [
    "### Local independencies"
   ]
  },
  {
   "cell_type": "code",
   "execution_count": 16,
   "metadata": {},
   "outputs": [
    {
     "data": {
      "text/plain": [
       "(Smoke ⟂ Alarm, Faulty, Evacuation, Alert | Fire)"
      ]
     },
     "execution_count": 16,
     "metadata": {},
     "output_type": "execute_result"
    }
   ],
   "source": [
    "fire_model.local_independencies('Smoke') "
   ]
  },
  {
   "cell_type": "markdown",
   "metadata": {},
   "source": [
    "Smoke is independent of any faulty alarm, the alarm going off and the people evacuating the building when we have information about the fire "
   ]
  },
  {
   "cell_type": "code",
   "execution_count": 17,
   "metadata": {},
   "outputs": [
    {
     "data": {
      "text/plain": [
       "(Fire ⟂ Faulty)"
      ]
     },
     "execution_count": 17,
     "metadata": {},
     "output_type": "execute_result"
    }
   ],
   "source": [
    "fire_model.local_independencies('Fire') "
   ]
  },
  {
   "cell_type": "markdown",
   "metadata": {},
   "source": [
    "Here, Fire is independent of a faulty alarm system because a real fire would not be caused due to faulty detector."
   ]
  },
  {
   "cell_type": "markdown",
   "metadata": {},
   "source": [
    "### All independencies"
   ]
  },
  {
   "cell_type": "code",
   "execution_count": 18,
   "metadata": {},
   "outputs": [
    {
     "data": {
      "text/plain": [
       "(Alarm ⟂ Smoke | Fire)\n",
       "(Alarm ⟂ Smoke | Alert, Fire)\n",
       "(Alarm ⟂ Smoke | Faulty, Fire)\n",
       "(Alarm ⟂ Smoke | Evacuation, Fire)\n",
       "(Alarm ⟂ Smoke | Alert, Faulty, Fire)\n",
       "(Alarm ⟂ Smoke | Alert, Evacuation, Fire)\n",
       "(Alarm ⟂ Smoke | Faulty, Evacuation, Fire)\n",
       "(Alarm ⟂ Smoke | Alert, Faulty, Evacuation, Fire)\n",
       "(Alert ⟂ Faulty, Evacuation, Fire, Smoke | Alarm)\n",
       "(Alert ⟂ Smoke | Fire)\n",
       "(Alert ⟂ Smoke, Evacuation, Fire | Alarm, Faulty)\n",
       "(Alert ⟂ Faulty, Evacuation, Fire | Alarm, Smoke)\n",
       "(Alert ⟂ Faulty, Smoke, Fire | Alarm, Evacuation)\n",
       "(Alert ⟂ Faulty, Evacuation, Smoke | Alarm, Fire)\n",
       "(Alert ⟂ Smoke | Faulty, Fire)\n",
       "(Alert ⟂ Smoke | Evacuation, Fire)\n",
       "(Alert ⟂ Evacuation, Fire | Alarm, Faulty, Smoke)\n",
       "(Alert ⟂ Smoke, Fire | Alarm, Faulty, Evacuation)\n",
       "(Alert ⟂ Smoke, Evacuation | Alarm, Faulty, Fire)\n",
       "(Alert ⟂ Faulty, Fire | Alarm, Evacuation, Smoke)\n",
       "(Alert ⟂ Faulty, Evacuation | Alarm, Smoke, Fire)\n",
       "(Alert ⟂ Faulty, Smoke | Alarm, Evacuation, Fire)\n",
       "(Alert ⟂ Smoke | Faulty, Evacuation, Fire)\n",
       "(Alert ⟂ Fire | Alarm, Evacuation, Faulty, Smoke)\n",
       "(Alert ⟂ Evacuation | Alarm, Faulty, Smoke, Fire)\n",
       "(Alert ⟂ Smoke | Alarm, Faulty, Evacuation, Fire)\n",
       "(Alert ⟂ Faulty | Alarm, Evacuation, Smoke, Fire)\n",
       "(Faulty ⟂ Smoke, Fire)\n",
       "(Faulty ⟂ Alert, Evacuation | Alarm)\n",
       "(Faulty ⟂ Fire | Smoke)\n",
       "(Faulty ⟂ Smoke | Fire)\n",
       "(Faulty ⟂ Evacuation | Alarm, Alert)\n",
       "(Faulty ⟂ Alert, Evacuation | Alarm, Smoke)\n",
       "(Faulty ⟂ Alert | Alarm, Evacuation)\n",
       "(Faulty ⟂ Alert, Smoke, Evacuation | Alarm, Fire)\n",
       "(Faulty ⟂ Smoke | Alert, Fire)\n",
       "(Faulty ⟂ Smoke | Evacuation, Fire)\n",
       "(Faulty ⟂ Evacuation | Alarm, Smoke, Alert)\n",
       "(Faulty ⟂ Smoke, Evacuation | Alarm, Fire, Alert)\n",
       "(Faulty ⟂ Alert | Alarm, Evacuation, Smoke)\n",
       "(Faulty ⟂ Alert, Evacuation | Alarm, Smoke, Fire)\n",
       "(Faulty ⟂ Alert, Smoke | Alarm, Evacuation, Fire)\n",
       "(Faulty ⟂ Smoke | Alert, Evacuation, Fire)\n",
       "(Faulty ⟂ Evacuation | Alarm, Smoke, Fire, Alert)\n",
       "(Faulty ⟂ Smoke | Alarm, Evacuation, Fire, Alert)\n",
       "(Faulty ⟂ Alert | Alarm, Evacuation, Smoke, Fire)\n",
       "(Smoke ⟂ Faulty)\n",
       "(Smoke ⟂ Alert, Evacuation | Alarm)\n",
       "(Smoke ⟂ Alarm, Faulty, Evacuation, Alert | Fire)\n",
       "(Smoke ⟂ Evacuation | Alarm, Alert)\n",
       "(Smoke ⟂ Alert, Evacuation | Alarm, Faulty)\n",
       "(Smoke ⟂ Alert | Alarm, Evacuation)\n",
       "(Smoke ⟂ Alert, Faulty, Evacuation | Alarm, Fire)\n",
       "(Smoke ⟂ Alarm, Faulty, Evacuation | Alert, Fire)\n",
       "(Smoke ⟂ Alarm, Evacuation, Alert | Faulty, Fire)\n",
       "(Smoke ⟂ Alarm, Faulty, Alert | Evacuation, Fire)\n",
       "(Smoke ⟂ Evacuation | Alarm, Faulty, Alert)\n",
       "(Smoke ⟂ Faulty, Evacuation | Alarm, Fire, Alert)\n",
       "(Smoke ⟂ Alert | Alarm, Faulty, Evacuation)\n",
       "(Smoke ⟂ Alert, Evacuation | Alarm, Faulty, Fire)\n",
       "(Smoke ⟂ Alert, Faulty | Alarm, Evacuation, Fire)\n",
       "(Smoke ⟂ Alarm, Evacuation | Alert, Faulty, Fire)\n",
       "(Smoke ⟂ Alarm, Faulty | Alert, Evacuation, Fire)\n",
       "(Smoke ⟂ Alarm, Alert | Faulty, Evacuation, Fire)\n",
       "(Smoke ⟂ Evacuation | Alarm, Faulty, Fire, Alert)\n",
       "(Smoke ⟂ Faulty | Alarm, Evacuation, Fire, Alert)\n",
       "(Smoke ⟂ Alert | Alarm, Faulty, Evacuation, Fire)\n",
       "(Smoke ⟂ Alarm | Alert, Faulty, Evacuation, Fire)\n",
       "(Evacuation ⟂ Alert, Faulty, Smoke, Fire | Alarm)\n",
       "(Evacuation ⟂ Smoke | Fire)\n",
       "(Evacuation ⟂ Faulty, Smoke, Fire | Alarm, Alert)\n",
       "(Evacuation ⟂ Alert, Smoke, Fire | Alarm, Faulty)\n",
       "(Evacuation ⟂ Alert, Faulty, Fire | Alarm, Smoke)\n",
       "(Evacuation ⟂ Alert, Faulty, Smoke | Alarm, Fire)\n",
       "(Evacuation ⟂ Smoke | Alert, Fire)\n",
       "(Evacuation ⟂ Smoke | Faulty, Fire)\n",
       "(Evacuation ⟂ Smoke, Fire | Alarm, Faulty, Alert)\n",
       "(Evacuation ⟂ Faulty, Fire | Alarm, Smoke, Alert)\n",
       "(Evacuation ⟂ Faulty, Smoke | Alarm, Fire, Alert)\n",
       "(Evacuation ⟂ Alert, Fire | Alarm, Faulty, Smoke)\n",
       "(Evacuation ⟂ Alert, Smoke | Alarm, Faulty, Fire)\n",
       "(Evacuation ⟂ Alert, Faulty | Alarm, Smoke, Fire)\n",
       "(Evacuation ⟂ Smoke | Alert, Faulty, Fire)\n",
       "(Evacuation ⟂ Fire | Alarm, Faulty, Smoke, Alert)\n",
       "(Evacuation ⟂ Smoke | Alarm, Faulty, Fire, Alert)\n",
       "(Evacuation ⟂ Faulty | Alarm, Smoke, Fire, Alert)\n",
       "(Evacuation ⟂ Alert | Alarm, Faulty, Smoke, Fire)\n",
       "(Fire ⟂ Faulty)\n",
       "(Fire ⟂ Alert, Evacuation | Alarm)\n",
       "(Fire ⟂ Faulty | Smoke)\n",
       "(Fire ⟂ Evacuation | Alarm, Alert)\n",
       "(Fire ⟂ Alert, Evacuation | Alarm, Faulty)\n",
       "(Fire ⟂ Alert, Evacuation | Alarm, Smoke)\n",
       "(Fire ⟂ Alert | Alarm, Evacuation)\n",
       "(Fire ⟂ Evacuation | Alarm, Faulty, Alert)\n",
       "(Fire ⟂ Evacuation | Alarm, Smoke, Alert)\n",
       "(Fire ⟂ Alert, Evacuation | Alarm, Faulty, Smoke)\n",
       "(Fire ⟂ Alert | Alarm, Faulty, Evacuation)\n",
       "(Fire ⟂ Alert | Alarm, Evacuation, Smoke)\n",
       "(Fire ⟂ Evacuation | Alarm, Faulty, Smoke, Alert)\n",
       "(Fire ⟂ Alert | Alarm, Evacuation, Faulty, Smoke)"
      ]
     },
     "execution_count": 18,
     "metadata": {},
     "output_type": "execute_result"
    }
   ],
   "source": [
    "fire_model.get_independencies()    "
   ]
  },
  {
   "cell_type": "markdown",
   "metadata": {},
   "source": [
    "### Querying the Bayesian network"
   ]
  },
  {
   "cell_type": "code",
   "execution_count": 19,
   "metadata": {},
   "outputs": [],
   "source": [
    "# To make probabilistic inferences using Variable elimination\n",
    "from pgmpy.inference import VariableElimination"
   ]
  },
  {
   "cell_type": "code",
   "execution_count": 20,
   "metadata": {},
   "outputs": [],
   "source": [
    "fire_infer = VariableElimination(fire_model)"
   ]
  },
  {
   "cell_type": "markdown",
   "metadata": {},
   "source": [
    "# Question 1"
   ]
  },
  {
   "cell_type": "markdown",
   "metadata": {},
   "source": [
    "### Will the residents evacuate the building in case of smoke ?"
   ]
  },
  {
   "cell_type": "code",
   "execution_count": 21,
   "metadata": {
    "scrolled": true
   },
   "outputs": [
    {
     "data": {
      "application/vnd.jupyter.widget-view+json": {
       "model_id": "9c63c3332fe949bba6b1bfef288e637a",
       "version_major": 2,
       "version_minor": 0
      },
      "text/plain": [
       "  0%|          | 0/3 [00:00<?, ?it/s]"
      ]
     },
     "metadata": {},
     "output_type": "display_data"
    },
    {
     "data": {
      "application/vnd.jupyter.widget-view+json": {
       "model_id": "6968523fb7a9432f940c59123621eebd",
       "version_major": 2,
       "version_minor": 0
      },
      "text/plain": [
       "  0%|          | 0/3 [00:00<?, ?it/s]"
      ]
     },
     "metadata": {},
     "output_type": "display_data"
    },
    {
     "name": "stdout",
     "output_type": "stream",
     "text": [
      "+-----------------+-------------------+\n",
      "| Evacuation      |   phi(Evacuation) |\n",
      "+=================+===================+\n",
      "| Evacuation(Yes) |            0.4196 |\n",
      "+-----------------+-------------------+\n",
      "| Evacuation(No)  |            0.5804 |\n",
      "+-----------------+-------------------+\n"
     ]
    }
   ],
   "source": [
    "# Probability of evacuating the building given smoke \n",
    "prob_evacuation_smoke = fire_infer.query(\n",
    "    variables = ['Evacuation'],\n",
    "    evidence ={'Smoke':'Yes'})\n",
    "print(prob_evacuation_smoke)  "
   ]
  },
  {
   "cell_type": "markdown",
   "metadata": {},
   "source": [
    "From the above result, we see that there is a higher chance that people will evacuate the building when there is smoke when compared to a situation when there is no smoke as shown below."
   ]
  },
  {
   "cell_type": "code",
   "execution_count": 22,
   "metadata": {},
   "outputs": [
    {
     "data": {
      "application/vnd.jupyter.widget-view+json": {
       "model_id": "51d27e732dd941dfb0f044c2da1887e3",
       "version_major": 2,
       "version_minor": 0
      },
      "text/plain": [
       "  0%|          | 0/3 [00:00<?, ?it/s]"
      ]
     },
     "metadata": {},
     "output_type": "display_data"
    },
    {
     "data": {
      "application/vnd.jupyter.widget-view+json": {
       "model_id": "c343fb22a1bb46d3ad1825d2595e8c9d",
       "version_major": 2,
       "version_minor": 0
      },
      "text/plain": [
       "  0%|          | 0/3 [00:00<?, ?it/s]"
      ]
     },
     "metadata": {},
     "output_type": "display_data"
    },
    {
     "name": "stdout",
     "output_type": "stream",
     "text": [
      "+-----------------+-------------------+\n",
      "| Evacuation      |   phi(Evacuation) |\n",
      "+=================+===================+\n",
      "| Evacuation(Yes) |            0.0178 |\n",
      "+-----------------+-------------------+\n",
      "| Evacuation(No)  |            0.9822 |\n",
      "+-----------------+-------------------+\n"
     ]
    }
   ],
   "source": [
    "# Probability of evacuating the building given no smoke \n",
    "prob_evacuation_no_smoke = fire_infer.query(\n",
    "    variables = ['Evacuation'],\n",
    "    evidence ={'Smoke':'No'})\n",
    "print(prob_evacuation_no_smoke)  "
   ]
  },
  {
   "cell_type": "markdown",
   "metadata": {},
   "source": [
    "# Question 2"
   ]
  },
  {
   "cell_type": "markdown",
   "metadata": {},
   "source": [
    "### Will the security guard alert the fire department in case of people evacuating?"
   ]
  },
  {
   "cell_type": "code",
   "execution_count": 23,
   "metadata": {},
   "outputs": [
    {
     "data": {
      "application/vnd.jupyter.widget-view+json": {
       "model_id": "fc20c69cff3e4ca9b23f19a580d27899",
       "version_major": 2,
       "version_minor": 0
      },
      "text/plain": [
       "  0%|          | 0/3 [00:00<?, ?it/s]"
      ]
     },
     "metadata": {},
     "output_type": "display_data"
    },
    {
     "data": {
      "application/vnd.jupyter.widget-view+json": {
       "model_id": "09a6c21dea784ec38ef41889ff2a6bd2",
       "version_major": 2,
       "version_minor": 0
      },
      "text/plain": [
       "  0%|          | 0/3 [00:00<?, ?it/s]"
      ]
     },
     "metadata": {},
     "output_type": "display_data"
    },
    {
     "name": "stdout",
     "output_type": "stream",
     "text": [
      "+------------+--------------+\n",
      "| Alert      |   phi(Alert) |\n",
      "+============+==============+\n",
      "| Alert(Yes) |       0.7697 |\n",
      "+------------+--------------+\n",
      "| Alert(No)  |       0.2303 |\n",
      "+------------+--------------+\n"
     ]
    }
   ],
   "source": [
    "prob_alert_evac = fire_infer.query(\n",
    "    variables = ['Alert'],\n",
    "    evidence ={'Evacuation':'Yes'})\n",
    "print(prob_alert_evac)  "
   ]
  },
  {
   "cell_type": "markdown",
   "metadata": {},
   "source": [
    "From the above result, we see that there is a high chance that the security guard will alert the fire department when he notices people evacuating the building."
   ]
  },
  {
   "cell_type": "markdown",
   "metadata": {},
   "source": [
    "# Question 3"
   ]
  },
  {
   "cell_type": "markdown",
   "metadata": {},
   "source": [
    "## Will the security alert the fire department if the alarm was caused due to a faulty detector?"
   ]
  },
  {
   "cell_type": "code",
   "execution_count": 24,
   "metadata": {},
   "outputs": [
    {
     "data": {
      "application/vnd.jupyter.widget-view+json": {
       "model_id": "d88cc2ebad654a67abc2b4916ac01d99",
       "version_major": 2,
       "version_minor": 0
      },
      "text/plain": [
       "  0%|          | 0/2 [00:00<?, ?it/s]"
      ]
     },
     "metadata": {},
     "output_type": "display_data"
    },
    {
     "data": {
      "application/vnd.jupyter.widget-view+json": {
       "model_id": "f2d801e4851b45de8dd5516b0c3b532f",
       "version_major": 2,
       "version_minor": 0
      },
      "text/plain": [
       "  0%|          | 0/2 [00:00<?, ?it/s]"
      ]
     },
     "metadata": {},
     "output_type": "display_data"
    },
    {
     "name": "stdout",
     "output_type": "stream",
     "text": [
      "+------------+--------------+\n",
      "| Alert      |   phi(Alert) |\n",
      "+============+==============+\n",
      "| Alert(Yes) |       0.7178 |\n",
      "+------------+--------------+\n",
      "| Alert(No)  |       0.2822 |\n",
      "+------------+--------------+\n"
     ]
    }
   ],
   "source": [
    "prob_alert_faulty = fire_infer.query(\n",
    "    variables = ['Alert'],\n",
    "    evidence ={'Faulty':'Yes'})\n",
    "print(prob_alert_faulty)  "
   ]
  },
  {
   "cell_type": "markdown",
   "metadata": {},
   "source": [
    "From the above result, we see that there is a high chance that the security guard will alert the fire department when the alarm has gone off due to a faulty detector."
   ]
  }
 ],
 "metadata": {
  "kernelspec": {
   "display_name": "Python 3",
   "language": "python",
   "name": "python3"
  },
  "language_info": {
   "codemirror_mode": {
    "name": "ipython",
    "version": 3
   },
   "file_extension": ".py",
   "mimetype": "text/x-python",
   "name": "python",
   "nbconvert_exporter": "python",
   "pygments_lexer": "ipython3",
   "version": "3.7.13"
  }
 },
 "nbformat": 4,
 "nbformat_minor": 4
}
